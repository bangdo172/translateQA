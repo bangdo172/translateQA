{
 "cells": [
  {
   "cell_type": "code",
   "execution_count": 2,
   "metadata": {},
   "outputs": [
    {
     "name": "stdout",
     "output_type": "stream",
     "text": [
      "<a0_0> 360 State Street \n"
     ]
    },
    {
     "ename": "TypeError",
     "evalue": "'str' object does not support item assignment",
     "output_type": "error",
     "traceback": [
      "\u001b[0;31m---------------------------------------------------------------------------\u001b[0m",
      "\u001b[0;31mTypeError\u001b[0m                                 Traceback (most recent call last)",
      "\u001b[0;32m<ipython-input-2-da3dc0abb323>\u001b[0m in \u001b[0;36m<module>\u001b[0;34m()\u001b[0m\n\u001b[1;32m     40\u001b[0m                             \u001b[0mtheAnswer\u001b[0m \u001b[0;34m=\u001b[0m \u001b[0mdatabase\u001b[0m\u001b[0;34m[\u001b[0m\u001b[0;34m'context'\u001b[0m\u001b[0;34m]\u001b[0m\u001b[0;34m[\u001b[0m\u001b[0mposTag1\u001b[0m\u001b[0;34m:\u001b[0m\u001b[0mposTag2\u001b[0m\u001b[0;34m]\u001b[0m\u001b[0;34m\u001b[0m\u001b[0m\n\u001b[1;32m     41\u001b[0m                             \u001b[0mprint\u001b[0m\u001b[0;34m(\u001b[0m\u001b[0mtheAnswer\u001b[0m\u001b[0;34m)\u001b[0m\u001b[0;34m\u001b[0m\u001b[0m\n\u001b[0;32m---> 42\u001b[0;31m                             \u001b[0mprint\u001b[0m\u001b[0;34m(\u001b[0m\u001b[0mdeleTagAns\u001b[0m\u001b[0;34m(\u001b[0m\u001b[0mtheAnswer\u001b[0m\u001b[0;34m)\u001b[0m\u001b[0;34m)\u001b[0m\u001b[0;34m\u001b[0m\u001b[0m\n\u001b[0m\u001b[1;32m     43\u001b[0m                             \u001b[0;31m#print(eachAnswer['text'])\u001b[0m\u001b[0;34m\u001b[0m\u001b[0;34m\u001b[0m\u001b[0m\n\u001b[1;32m     44\u001b[0m                             \u001b[0;31m#print(str(question_count) + \"___\" + str(answer_count))\u001b[0m\u001b[0;34m\u001b[0m\u001b[0;34m\u001b[0m\u001b[0m\n",
      "\u001b[0;32m<ipython-input-2-da3dc0abb323>\u001b[0m in \u001b[0;36mdeleTagAns\u001b[0;34m(answer)\u001b[0m\n\u001b[1;32m     19\u001b[0m             \u001b[0mresult\u001b[0m \u001b[0;34m=\u001b[0m \u001b[0mresult\u001b[0m \u001b[0;34m+\u001b[0m \u001b[0manswer\u001b[0m\u001b[0;34m[\u001b[0m\u001b[0mindex\u001b[0m\u001b[0;34m]\u001b[0m\u001b[0;34m\u001b[0m\u001b[0m\n\u001b[1;32m     20\u001b[0m         \u001b[0mindex\u001b[0m \u001b[0;34m=\u001b[0m \u001b[0mindex\u001b[0m \u001b[0;34m+\u001b[0m \u001b[0;36m1\u001b[0m\u001b[0;34m\u001b[0m\u001b[0m\n\u001b[0;32m---> 21\u001b[0;31m     \u001b[0mdeleSpace\u001b[0m\u001b[0;34m(\u001b[0m\u001b[0mresult\u001b[0m\u001b[0;34m)\u001b[0m\u001b[0;34m\u001b[0m\u001b[0m\n\u001b[0m\u001b[1;32m     22\u001b[0m     \u001b[0;32mreturn\u001b[0m \u001b[0mresult\u001b[0m\u001b[0;34m\u001b[0m\u001b[0m\n\u001b[1;32m     23\u001b[0m \u001b[0;34m\u001b[0m\u001b[0m\n",
      "\u001b[0;32m<ipython-input-2-da3dc0abb323>\u001b[0m in \u001b[0;36mdeleSpace\u001b[0;34m(string)\u001b[0m\n\u001b[1;32m      4\u001b[0m \u001b[0;32mdef\u001b[0m \u001b[0mdeleSpace\u001b[0m\u001b[0;34m(\u001b[0m\u001b[0mstring\u001b[0m\u001b[0;34m)\u001b[0m\u001b[0;34m:\u001b[0m\u001b[0;34m\u001b[0m\u001b[0m\n\u001b[1;32m      5\u001b[0m     \u001b[0;32mif\u001b[0m \u001b[0mstring\u001b[0m\u001b[0;34m[\u001b[0m\u001b[0;36m0\u001b[0m\u001b[0;34m]\u001b[0m \u001b[0;34m==\u001b[0m \u001b[0;34m\" \"\u001b[0m\u001b[0;34m:\u001b[0m\u001b[0;34m\u001b[0m\u001b[0m\n\u001b[0;32m----> 6\u001b[0;31m         \u001b[0mstring\u001b[0m\u001b[0;34m[\u001b[0m\u001b[0;36m0\u001b[0m\u001b[0;34m]\u001b[0m \u001b[0;34m=\u001b[0m \u001b[0;34m\"\"\u001b[0m\u001b[0;34m\u001b[0m\u001b[0m\n\u001b[0m\u001b[1;32m      7\u001b[0m     \u001b[0;32mif\u001b[0m \u001b[0mstring\u001b[0m\u001b[0;34m[\u001b[0m\u001b[0mint\u001b[0m\u001b[0;34m(\u001b[0m\u001b[0mlen\u001b[0m\u001b[0;34m(\u001b[0m\u001b[0mstring\u001b[0m\u001b[0;34m)\u001b[0m\u001b[0;34m)\u001b[0m \u001b[0;34m-\u001b[0m \u001b[0;36m1\u001b[0m\u001b[0;34m]\u001b[0m \u001b[0;34m==\u001b[0m \u001b[0;34m\" \"\u001b[0m\u001b[0;34m:\u001b[0m\u001b[0;34m\u001b[0m\u001b[0m\n\u001b[1;32m      8\u001b[0m         \u001b[0mstring\u001b[0m\u001b[0;34m[\u001b[0m\u001b[0mint\u001b[0m\u001b[0;34m(\u001b[0m\u001b[0mlen\u001b[0m\u001b[0;34m(\u001b[0m\u001b[0mstring\u001b[0m\u001b[0;34m)\u001b[0m\u001b[0;34m)\u001b[0m \u001b[0;34m-\u001b[0m \u001b[0;36m1\u001b[0m\u001b[0;34m]\u001b[0m \u001b[0;34m=\u001b[0m \u001b[0;34m\"\"\u001b[0m\u001b[0;34m\u001b[0m\u001b[0m\n",
      "\u001b[0;31mTypeError\u001b[0m: 'str' object does not support item assignment"
     ]
    }
   ],
   "source": [
    "import json\n",
    "import os\n",
    "import array\n",
    "def deleSpace(string):\n",
    "    result = \"\"\n",
    "    if string[0] == \" \":\n",
    "        \n",
    "    if string[int(len(string)) - 1] == \" \":\n",
    "        string[int(len(string)) - 1] = \"\"\n",
    "    for index in range(int(len(string))):\n",
    "        if (string[index] == \" \" and string[index + 1] == \" \"):\n",
    "            string[index + 1] = \"\"\n",
    "def deleTagAns(answer):\n",
    "    result = \"\"\n",
    "    index = 0\n",
    "    while index < int(len(answer)):\n",
    "        if answer[index] == \"<\":\n",
    "            index = answer.find(\">\", index, int(len(answer)))\n",
    "        else:\n",
    "            result = result + answer[index]\n",
    "        index = index + 1\n",
    "    deleSpace(result)\n",
    "    return result\n",
    "\n",
    "for eachFolder in os.listdir(\"/Users/bangdo/Documents/theProject/MachinelearningCode/ReadingWikiToAnswerOpenQuestion/translateAPI/testdata\"):\n",
    "    if (eachFolder != \".DS_Store\"):\n",
    "        for eachFile in os.listdir(\"/Users/bangdo/Documents/theProject/MachinelearningCode/ReadingWikiToAnswerOpenQuestion/translateAPI/testdata/\" + eachFolder):\n",
    "            if (eachFile != \".DS_Store\"):\n",
    "                with open(\"testdata/\" + eachFolder + \"/\" + eachFile, \"r\") as file:\n",
    "                    database = json.load(file)\n",
    "                lengthContext = int(len(database['context']))\n",
    "                question_count = 0\n",
    "                for eachQuestion in database['qas']:\n",
    "                    answer_count = 0\n",
    "                    if eachQuestion['is_impossible'] == False:\n",
    "                        for eachAnswer in eachQuestion['answers']:\n",
    "                            tag1 = \"<a\" + str(question_count) + \"_\" + str(answer_count) + \">\"\n",
    "                            tag2 = \"<a\" + str(question_count) + \"_\" + str(answer_count) + \"/>\"\n",
    "                            posTag1 = database['context'].find(tag1, 0, lengthContext + 1)\n",
    "                            posTag2 = database['context'].find(tag2, 0, lengthContext + 1)\n",
    "                            theAnswer = database['context'][posTag1:posTag2]\n",
    "                            print(theAnswer)\n",
    "                            print(deleTagAns(theAnswer))\n",
    "                            #print(eachAnswer['text']) \n",
    "                            #print(str(question_count) + \"___\" + str(answer_count))\n",
    "                            answer_count = answer_count + 1\n",
    "                    question_count = question_count + 1"
   ]
  },
  {
   "cell_type": "code",
   "execution_count": null,
   "metadata": {},
   "outputs": [],
   "source": []
  },
  {
   "cell_type": "code",
   "execution_count": null,
   "metadata": {},
   "outputs": [],
   "source": []
  }
 ],
 "metadata": {
  "kernelspec": {
   "display_name": "Python 3",
   "language": "python",
   "name": "python3"
  },
  "language_info": {
   "codemirror_mode": {
    "name": "ipython",
    "version": 3
   },
   "file_extension": ".py",
   "mimetype": "text/x-python",
   "name": "python",
   "nbconvert_exporter": "python",
   "pygments_lexer": "ipython3",
   "version": "3.6.4"
  }
 },
 "nbformat": 4,
 "nbformat_minor": 2
}
