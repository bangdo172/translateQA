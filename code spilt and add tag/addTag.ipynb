{
 "cells": [
  {
   "cell_type": "code",
   "execution_count": 1,
   "metadata": {},
   "outputs": [
    {
     "ename": "FileNotFoundError",
     "evalue": "[Errno 2] No such file or directory: '/Users/bangdo/Documents/theProject/MachinelearningCode/ReadingWikiToAnswerOpenQuestion/translateAPI/devarticle_28'",
     "traceback": [
      "\u001b[0;31m---------------------------------------------------------------------------\u001b[0m",
      "\u001b[0;31mFileNotFoundError\u001b[0m                         Traceback (most recent call last)",
      "\u001b[0;32m<ipython-input-1-97113158a386>\u001b[0m in \u001b[0;36m<module>\u001b[0;34m()\u001b[0m\n\u001b[1;32m     17\u001b[0m \u001b[0;32mfor\u001b[0m \u001b[0meachFolder\u001b[0m \u001b[0;32min\u001b[0m \u001b[0mos\u001b[0m\u001b[0;34m.\u001b[0m\u001b[0mlistdir\u001b[0m\u001b[0;34m(\u001b[0m\u001b[0;34m\"/Users/bangdo/Documents/theProject/MachinelearningCode/ReadingWikiToAnswerOpenQuestion/translateAPI/dev\"\u001b[0m\u001b[0;34m)\u001b[0m\u001b[0;34m:\u001b[0m\u001b[0;34m\u001b[0m\u001b[0m\n\u001b[1;32m     18\u001b[0m     \u001b[0;32mif\u001b[0m \u001b[0;34m(\u001b[0m\u001b[0meachFolder\u001b[0m \u001b[0;34m!=\u001b[0m \u001b[0;34m\".DS_Store\"\u001b[0m\u001b[0;34m)\u001b[0m\u001b[0;34m:\u001b[0m\u001b[0;34m\u001b[0m\u001b[0m\n\u001b[0;32m---> 19\u001b[0;31m         \u001b[0;32mfor\u001b[0m \u001b[0meachFile\u001b[0m \u001b[0;32min\u001b[0m \u001b[0mos\u001b[0m\u001b[0;34m.\u001b[0m\u001b[0mlistdir\u001b[0m\u001b[0;34m(\u001b[0m\u001b[0;34m\"/Users/bangdo/Documents/theProject/MachinelearningCode/ReadingWikiToAnswerOpenQuestion/translateAPI/dev\"\u001b[0m \u001b[0;34m+\u001b[0m \u001b[0meachFolder\u001b[0m\u001b[0;34m)\u001b[0m\u001b[0;34m:\u001b[0m\u001b[0;34m\u001b[0m\u001b[0m\n\u001b[0m\u001b[1;32m     20\u001b[0m             \u001b[0;32mif\u001b[0m \u001b[0;34m(\u001b[0m\u001b[0meachFile\u001b[0m \u001b[0;34m!=\u001b[0m \u001b[0;34m\".DS_Store\"\u001b[0m\u001b[0;34m)\u001b[0m\u001b[0;34m:\u001b[0m\u001b[0;34m\u001b[0m\u001b[0m\n\u001b[1;32m     21\u001b[0m                 \u001b[0;32mwith\u001b[0m \u001b[0mopen\u001b[0m\u001b[0;34m(\u001b[0m\u001b[0;34m\"dev/\"\u001b[0m \u001b[0;34m+\u001b[0m \u001b[0meachFolder\u001b[0m \u001b[0;34m+\u001b[0m \u001b[0;34m\"/\"\u001b[0m \u001b[0;34m+\u001b[0m \u001b[0meachFile\u001b[0m\u001b[0;34m,\u001b[0m \u001b[0;34m\"r\"\u001b[0m\u001b[0;34m)\u001b[0m \u001b[0;32mas\u001b[0m \u001b[0mfile\u001b[0m\u001b[0;34m:\u001b[0m\u001b[0;34m\u001b[0m\u001b[0m\n",
      "\u001b[0;31mFileNotFoundError\u001b[0m: [Errno 2] No such file or directory: '/Users/bangdo/Documents/theProject/MachinelearningCode/ReadingWikiToAnswerOpenQuestion/translateAPI/devarticle_28'"
     ],
     "output_type": "error"
    }
   ],
   "source": [
    "import json\n",
    "import array\n",
    "import os\n",
    "\n",
    "def insert(source_str, add_str ,pos):\n",
    "    return source_str[:pos] + add_str + source_str[pos:]\n",
    "\n",
    "def insertATag (pos, length, tag1, tag2):\n",
    "    isTag[pos] = isTag[pos] + \"<a\" + tag1 +\"_\"+ tag2 + \">\"\n",
    "    isTag[pos + length] = \"<a\" + tag1 + \"_\" + tag2 + \"/>\" + isTag[pos + length]\n",
    "\n",
    "def insertBTag (pos, length, tag1, tag2):\n",
    "    isTag[pos] = isTag[pos] + \"<b\" + tag1 +\"_\"+ tag2 + \">\"\n",
    "    isTag[pos + length] = \"<b\" + tag1 + \"_\" + tag2 + \"/>\" + isTag[pos + length]\n",
    "\n",
    "\n",
    "for eachFolder in os.listdir(\"/Users/bangdo/Documents/theProject/MachinelearningCode/ReadingWikiToAnswerOpenQuestion/translateAPI/dev\"):\n",
    "    if (eachFolder != \".DS_Store\"):\n",
    "        for eachFile in os.listdir(\"/Users/bangdo/Documents/theProject/MachinelearningCode/ReadingWikiToAnswerOpenQuestion/translateAPI/dev\" + eachFolder):\n",
    "            if (eachFile != \".DS_Store\"):\n",
    "                with open(\"dev/\" + eachFolder + \"/\" + eachFile, \"r\") as file:\n",
    "                    database = json.load(file)\n",
    "                question_count = 0\n",
    "                lengthContext = int(len(database['context']))\n",
    "\n",
    "                #init isTag\n",
    "                isTag = []\n",
    "                for i in range(lengthContext + 1):\n",
    "                    isTag.append('')\n",
    "\n",
    "                #implement with each question of a paragraph\n",
    "                for eachQuestion in database['qas']:\n",
    "                    answer_count = 0\n",
    "                    answer_start = 0\n",
    "                    if eachQuestion['is_impossible'] == False:\n",
    "                        for eachAnswer in eachQuestion['answers']:\n",
    "                            insertATag(eachAnswer['answer_start'], int(len(eachAnswer['text'])), str(question_count), str(answer_count))\n",
    "                            answer_count = answer_count + 1    \n",
    "                    else:\n",
    "                        for eachAnswer in eachQuestion['plausible_answers']:\n",
    "                            insertBTag(eachAnswer['answer_start'], int(len(eachAnswer['text'])), str(question_count), str(answer_count))\n",
    "                            answer_count = answer_count + 1\n",
    "                    question_count = question_count + 1\n",
    "                    del answer_count\n",
    "                    del answer_start\n",
    "                # insert tag to paragraph\n",
    "                for l in range(lengthContext - 1, -1, -1):\n",
    "                    database['context'] = insert(database['context'], isTag[l], l)\n",
    "                del isTag[:]\n",
    "                del question_count\n",
    "                del lengthContext\n",
    "\n",
    "                # file\n",
    "                with open(\"dev/\" + eachFolder + \"/\" + eachFile, \"w\") as file:\n",
    "                    json.dump(database,file)\n",
    "\n"
   ]
  },
  {
   "cell_type": "code",
   "execution_count": null,
   "metadata": {},
   "outputs": [],
   "source": []
  }
 ],
 "metadata": {
  "kernelspec": {
   "display_name": "Python 3",
   "language": "python",
   "name": "python3"
  },
  "language_info": {
   "codemirror_mode": {
    "name": "ipython",
    "version": 3
   },
   "file_extension": ".py",
   "mimetype": "text/x-python",
   "name": "python",
   "nbconvert_exporter": "python",
   "pygments_lexer": "ipython3",
   "version": "3.6.4"
  }
 },
 "nbformat": 4,
 "nbformat_minor": 2
}
