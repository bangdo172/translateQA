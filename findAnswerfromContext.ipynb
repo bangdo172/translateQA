{
 "cells": [
  {
   "cell_type": "code",
   "execution_count": null,
   "metadata": {},
   "outputs": [],
   "source": []
  },
  {
   "cell_type": "code",
   "execution_count": null,
   "metadata": {},
   "outputs": [],
   "source": [
    "import json\n",
    "import os\n",
    "import array\n",
    "\n",
    "def deleTag(answer):\n",
    "    result = \"\"\n",
    "    index = 0\n",
    "    for index in int(len(answer)):\n",
    "        if answer[index] == \"<\":\n",
    "            while answer[index] != \">\":\n",
    "                pass\n",
    "        else:\n",
    "            print(answer[index])\n",
    "            result = result + answer[index]\n",
    "        index = index + 1\n",
    "    return result\n",
    "\n",
    "for eachFolder in os.listdir(\"/Users/bangdo/Documents/theProject/MachinelearningCode/ReadingWikiToAnswerOpenQuestion/translateAPI/testdata\"):\n",
    "    if (eachFolder != \".DS_Store\"):\n",
    "        for eachFile in os.listdir(\"/Users/bangdo/Documents/theProject/MachinelearningCode/ReadingWikiToAnswerOpenQuestion/translateAPI/testdata/\" + eachFolder):\n",
    "            if (eachFile != \".DS_Store\"):\n",
    "                with open(\"testdata/\" + eachFolder + \"/\" + eachFile, \"r\") as file:\n",
    "                    database = json.load(file)\n",
    "                lengthContext = int(len(database['context']))\n",
    "                question_count = 0\n",
    "                for eachQuestion in database['qas']:\n",
    "                    answer_count = 0\n",
    "                    if eachQuestion['is_impossible'] == False:\n",
    "                        for eachAnswer in eachQuestion['answers']:\n",
    "                            tag1 = \"<a\" + str(question_count) + \"_\" + str(answer_count) + \">\"\n",
    "                            tag2 = \"<a\" + str(question_count) + \"_\" + str(answer_count) + \"/>\"\n",
    "                            posTag1 = database['context'].find(tag1, 0, lengthContext + 1)\n",
    "                            posTag2 = database['context'].find(tag2, 0, lengthContext + 1)\n",
    "                            theAnswer = database['context'][posTag1:posTag2]\n",
    "                            #print(theAnswer)\n",
    "                            print(deleTag(theAnswer))\n",
    "                            #print(eachAnswer['text'])\n",
    "                            #print(str(question_count) + \"___\" + str(answer_count))\n",
    "                            answer_count = answer_count + 1\n",
    "                    question_count = question_count + 1"
   ]
  },
  {
   "cell_type": "code",
   "execution_count": null,
   "metadata": {},
   "outputs": [],
   "source": []
  },
  {
   "cell_type": "code",
   "execution_count": null,
   "metadata": {},
   "outputs": [],
   "source": []
  }
 ],
 "metadata": {
  "kernelspec": {
   "display_name": "Python 3",
   "language": "python",
   "name": "python3"
  },
  "language_info": {
   "codemirror_mode": {
    "name": "ipython",
    "version": 3
   },
   "file_extension": ".py",
   "mimetype": "text/x-python",
   "name": "python",
   "nbconvert_exporter": "python",
   "pygments_lexer": "ipython3",
   "version": "3.6.4"
  }
 },
 "nbformat": 4,
 "nbformat_minor": 2
}
