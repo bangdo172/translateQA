{
 "cells": [
  {
   "cell_type": "code",
   "execution_count": 1,
   "metadata": {},
   "outputs": [],
   "source": [
    "import json\n",
    "import os"
   ]
  },
  {
   "cell_type": "code",
   "execution_count": 119,
   "metadata": {},
   "outputs": [
    {
     "name": "stdout",
     "output_type": "stream",
     "text": [
      "############################################\n",
      "--------------------------\n",
      "--------------------------\n",
      "--------------------------\n",
      "--------------------------\n",
      "--------------------------\n",
      "{'plausible_answers': [{'text': 'Người Norman', 'answer_start': 4}], 'question': 'Ai đã đặt tên cho Normandy vào những năm 1000 và 1100', 'id': '5ad39d53604f3c001a3fe8d1', 'answers': [], 'is_impossible': True}\n",
      "--------------------------\n",
      "{'plausible_answers': [{'text': 'Rollo', 'answer_start': 317}], 'question': 'Ai đã làm vua Charles III thề với sự giận dữ?', 'id': '5ad39d53604f3c001a3fe8d3', 'answers': [], 'is_impossible': True}\n",
      "--------------------------\n",
      "{'qas': [{'question': 'Normandy nằm ở quốc gia nào?', 'id': '56ddde6b9a695914005b9628', 'answers': [{'text': 'Nước Pháp', 'answer_start': 154}, {'text': 'Nước Pháp', 'answer_start': 154}, {'text': 'Nước Pháp', 'answer_start': 154}, {'text': 'Nước Pháp', 'answer_start': 154}], 'is_impossible': False}, {'question': 'Khi nào là người Norman ở Normandy?', 'id': '56ddde6b9a695914005b9629', 'answers': [{'text': 'Thế kỷ thứ 10 và 11', 'answer_start': 95}, {'text': 'bên trong Thế kỷ thứ 10 và 11', 'answer_start': 85}, {'text': 'Thế kỷ thứ 10 và 11', 'answer_start': 95}, {'text': 'Thế kỷ thứ 10 và 11', 'answer_start': 95}], 'is_impossible': False}, {'question': 'Từ những nước nào mà người Bắc Âu có nguồn gốc?', 'id': '56ddde6b9a695914005b962a', 'answers': [{'text': 'Đan Mạch, Iceland và Na Uy', 'answer_start': 262}, {'text': 'Đan Mạch, Iceland và Na Uy', 'answer_start': 262}, {'text': 'Đan Mạch, Iceland và Na Uy', 'answer_start': 262}, {'text': 'Đan Mạch, Iceland và Na Uy', 'answer_start': 262}], 'is_impossible': False}, {'question': 'Ai là người lãnh đạo Bắc Âu?', 'id': '56ddde6b9a695914005b962b', 'answers': [{'text': 'Rollo', 'answer_start': 317}, {'text': 'Rollo', 'answer_start': 317}, {'text': 'Rollo', 'answer_start': 317}, {'text': 'Rollo', 'answer_start': 317}], 'is_impossible': False}, {'question': 'Thế kỷ trước, người Norman đã có được bản sắc riêng của họ?', 'id': '56ddde6b9a695914005b962c', 'answers': [{'text': 'ngày 10 thế kỷ', 'answer_start': 620}, {'text': 'nửa đầu của ngày 10 thế kỷ', 'answer_start': 608}, {'text': 'ngày 10', 'answer_start': 620}, {'text': 'ngày 10', 'answer_start': 620}], 'is_impossible': False}, {'plausible_answers': [{'text': 'Normandy', 'answer_start': 130}], 'question': 'Khu vực của Pháp là gì?', 'id': '5ad39d53604f3c001a3fe8d2', 'answers': [], 'is_impossible': True}, {'plausible_answers': [{'text': 'ngày 10 thế kỷ', 'answer_start': 620}], 'question': 'Danh tính Frankish xuất hiện khi nào?', 'id': '5ad39d53604f3c001a3fe8d4', 'answers': [], 'is_impossible': True}], 'context': 'Các Người Norman (Norman: Nourmands; Pháp: Normands; Latin: Normanni) là những người bên trong Thế kỷ thứ 10 và 11 đã đặt tên cho Normandy, một khu vực ở Nước Pháp. Họ là hậu duệ của người Bắc Âu (\"Norman\" xuất phát từ những tên cướp \"Norseman\") và cướp biển từ Đan Mạch, Iceland và Na Uy ai, dưới sự lãnh đạo của họ Rollo, đồng ý thề với vua Charles III của Tây Francia. Thông qua các thế hệ đồng hóa và trộn lẫn với người gốc Frankish và Roman-Gaulish, con cháu của họ sẽ dần dần hợp nhất với các nền văn hóa Tây Ban Nha dựa trên Carolingian. Bản sắc văn hóa và sắc tộc của người Normans nổi lên ban đầu ở nửa đầu của ngày 10 thế kỷ và nó tiếp tục phát triển qua nhiều thế kỷ.'}\n",
      "=================================\n",
      "############################################\n",
      "===============================\n",
      "7\n",
      "0\n",
      "DONE\n"
     ]
    }
   ],
   "source": [
    "with open(\"database/dev-v2.0.json\",\"r\") as file:\n",
    "    database = json.load(file)\n",
    "print(\"############################################\")\n",
    "title_count = 0\n",
    "for eachTitle in database['data']:\n",
    "    para_count = 0\n",
    "    for eachPara in eachTitle['paragraphs']:\n",
    "\n",
    "        question_count = 0 \n",
    "        for eachQuestion in eachPara['qas']:\n",
    "            if (eachPara['qas'][question_count]['is_impossible'] == True):\n",
    "                eachPara['qas'].remove(eachQuestion)\n",
    "                print(eachQuestion)\n",
    "                with open(\"database/dev-v1.0.json\", \"w\") as filex:\n",
    "                    json.dump(database, filex) \n",
    "            print(\"--------------------------\")\n",
    "            question_count = question_count + 1\n",
    "        print(eachPara)\n",
    "        #with open(\"database/dev-v1.0.json\", \"w\") as filex:\n",
    "        #    json.dump(database, filex) \n",
    "        print(\"=================================\")\n",
    "        para_count = para_count + 1\n",
    "        break\n",
    "    print(\"############################################\")\n",
    "    title_count = title_count + 1\n",
    "    break\n",
    "print(\"===============================\")\n",
    "print(question_count)\n",
    "#print(unanswerable_count)\n",
    "print(\"DONE\")"
   ]
  },
  {
   "cell_type": "code",
   "execution_count": 57,
   "metadata": {},
   "outputs": [],
   "source": [
    "import json\n",
    "a = [\n",
    "  {\n",
    "      \"ename\": \"mark\",\n",
    "      \"url\": \"Lennon.com\"\n",
    "  },\n",
    "  {\n",
    "      \"ename\": \"egg\",\n",
    "      \"url\": \"Lennon.com\"\n",
    "  }\n",
    "]"
   ]
  },
  {
   "cell_type": "code",
   "execution_count": 58,
   "metadata": {},
   "outputs": [
    {
     "name": "stdout",
     "output_type": "stream",
     "text": [
      "[{'ename': 'mark', 'url': 'Lennon.com'}]\n"
     ]
    }
   ],
   "source": [
    "if a[0][\"ename\"] == \"mark\":\n",
    "    a.pop(1)\n",
    "print(a)"
   ]
  },
  {
   "cell_type": "code",
   "execution_count": 148,
   "metadata": {},
   "outputs": [],
   "source": [
    "x = [\"n\",\"g\",\"d\",\"o\",\"v\",\"a\",\"n\"]"
   ]
  },
  {
   "cell_type": "code",
   "execution_count": 163,
   "metadata": {},
   "outputs": [
    {
     "ename": "AttributeError",
     "evalue": "'list' object has no attribute 'size'",
     "output_type": "error",
     "traceback": [
      "\u001b[0;31m---------------------------------------------------------------------------\u001b[0m",
      "\u001b[0;31mAttributeError\u001b[0m                            Traceback (most recent call last)",
      "\u001b[0;32m<ipython-input-163-918cef1855df>\u001b[0m in \u001b[0;36m<module>\u001b[0;34m()\u001b[0m\n\u001b[1;32m      1\u001b[0m \u001b[0mi_count\u001b[0m \u001b[0;34m=\u001b[0m \u001b[0;36m0\u001b[0m\u001b[0;34m\u001b[0m\u001b[0m\n\u001b[1;32m      2\u001b[0m \u001b[0;32mfor\u001b[0m \u001b[0mi\u001b[0m \u001b[0;32min\u001b[0m \u001b[0mx\u001b[0m\u001b[0;34m:\u001b[0m\u001b[0;34m\u001b[0m\u001b[0m\n\u001b[0;32m----> 3\u001b[0;31m     \u001b[0mprint\u001b[0m\u001b[0;34m(\u001b[0m\u001b[0mx\u001b[0m\u001b[0;34m.\u001b[0m\u001b[0msize\u001b[0m\u001b[0;34m(\u001b[0m\u001b[0;34m)\u001b[0m\u001b[0;34m)\u001b[0m\u001b[0;34m\u001b[0m\u001b[0m\n\u001b[0m\u001b[1;32m      4\u001b[0m     \u001b[0;32mif\u001b[0m \u001b[0mi_count\u001b[0m \u001b[0;34m%\u001b[0m \u001b[0;36m2\u001b[0m \u001b[0;34m==\u001b[0m \u001b[0;36m0\u001b[0m\u001b[0;34m:\u001b[0m\u001b[0;34m\u001b[0m\u001b[0m\n\u001b[1;32m      5\u001b[0m         \u001b[0mprint\u001b[0m\u001b[0;34m(\u001b[0m\u001b[0mx\u001b[0m\u001b[0;34m)\u001b[0m\u001b[0;34m\u001b[0m\u001b[0m\n",
      "\u001b[0;31mAttributeError\u001b[0m: 'list' object has no attribute 'size'"
     ]
    }
   ],
   "source": [
    "i_count = 0\n",
    "for i in x:\n",
    "    print(x.size())\n",
    "    if i_count % 2 == 0:\n",
    "        print(x)\n",
    "        i_count = i_count - 1\n",
    "        print(len(x))\n",
    "        i_count = i_count - 1\n",
    "    i_count = i_count + 1"
   ]
  },
  {
   "cell_type": "code",
   "execution_count": 139,
   "metadata": {},
   "outputs": [
    {
     "name": "stdout",
     "output_type": "stream",
     "text": [
      "['b', 'g', 'd', 'a', 'a', 'd', 'o', 'n']\n"
     ]
    }
   ],
   "source": [
    "print(x)"
   ]
  },
  {
   "cell_type": "code",
   "execution_count": 140,
   "metadata": {},
   "outputs": [
    {
     "name": "stdout",
     "output_type": "stream",
     "text": [
      "n\n"
     ]
    }
   ],
   "source": [
    "print(a)"
   ]
  },
  {
   "cell_type": "code",
   "execution_count": 121,
   "metadata": {},
   "outputs": [],
   "source": [
    "y = [\"x\", \"y\"]"
   ]
  },
  {
   "cell_type": "code",
   "execution_count": 123,
   "metadata": {},
   "outputs": [
    {
     "data": {
      "text/plain": [
       "['n', 'g', 'd', 'x', 'y']"
      ]
     },
     "execution_count": 123,
     "metadata": {},
     "output_type": "execute_result"
    }
   ],
   "source": [
    "x[2:5] + y"
   ]
  },
  {
   "cell_type": "code",
   "execution_count": 141,
   "metadata": {},
   "outputs": [],
   "source": [
    "m = ['x', 'f']"
   ]
  },
  {
   "cell_type": "code",
   "execution_count": 142,
   "metadata": {},
   "outputs": [
    {
     "data": {
      "text/plain": [
       "2"
      ]
     },
     "execution_count": 142,
     "metadata": {},
     "output_type": "execute_result"
    }
   ],
   "source": [
    "len(m)"
   ]
  },
  {
   "cell_type": "code",
   "execution_count": null,
   "metadata": {},
   "outputs": [],
   "source": []
  }
 ],
 "metadata": {
  "kernelspec": {
   "display_name": "Python 3",
   "language": "python",
   "name": "python3"
  },
  "language_info": {
   "codemirror_mode": {
    "name": "ipython",
    "version": 3
   },
   "file_extension": ".py",
   "mimetype": "text/x-python",
   "name": "python",
   "nbconvert_exporter": "python",
   "pygments_lexer": "ipython3",
   "version": "3.6.4"
  }
 },
 "nbformat": 4,
 "nbformat_minor": 2
}
